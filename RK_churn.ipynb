{
  "cells": [
    {
      "cell_type": "markdown",
      "metadata": {
        "id": "view-in-github",
        "colab_type": "text"
      },
      "source": [
        "<a href=\"https://colab.research.google.com/github/Ahsrah-09/RK-Technologies/blob/main/RK_churn.ipynb\" target=\"_parent\"><img src=\"https://colab.research.google.com/assets/colab-badge.svg\" alt=\"Open In Colab\"/></a>"
      ]
    },
    {
      "cell_type": "code",
      "execution_count": 37,
      "metadata": {
        "id": "mSi675zDvT8K"
      },
      "outputs": [],
      "source": [
        "import pandas as pd\n",
        "import numpy as np\n",
        "import matplotlib.pyplot as plt\n",
        "import warnings\n",
        "warnings.filterwarnings(action='ignore')"
      ]
    },
    {
      "cell_type": "code",
      "execution_count": 38,
      "metadata": {
        "id": "iwPBDBW4x0_c"
      },
      "outputs": [],
      "source": [
        "data = pd.read_csv('churn_data_simple.csv')"
      ]
    },
    {
      "cell_type": "code",
      "execution_count": 39,
      "metadata": {
        "id": "Dt6X-Lc1x072",
        "colab": {
          "base_uri": "https://localhost:8080/",
          "height": 273
        },
        "outputId": "bb473c42-746e-4af4-d714-bf8545e384c6"
      },
      "outputs": [
        {
          "output_type": "execute_result",
          "data": {
            "text/plain": [
              "   Unnamed: 0  customer_id  vintage  age  gender  dependents  occupation  \\\n",
              "0           0            1     2101   66       1         0.0           3   \n",
              "1           1            2     2348   35       1         0.0           3   \n",
              "2           3            5     2329   90       1         0.0           3   \n",
              "3           4            6     1579   42       1         2.0           3   \n",
              "4           5            7     1923   42       0         0.0           3   \n",
              "\n",
              "     city  customer_nw_category  branch_code  ...  current_month_debit  \\\n",
              "0   187.0                     2        755.0  ...                 0.20   \n",
              "1  1020.0                     2       3214.0  ...              5486.27   \n",
              "2  1020.0                     2        582.0  ...                 0.47   \n",
              "3  1494.0                     3        388.0  ...               588.62   \n",
              "4  1096.0                     2       1666.0  ...               857.50   \n",
              "\n",
              "   previous_month_debit  current_month_balance  previous_month_balance  churn  \\\n",
              "0                  0.20                1458.71                 1458.71      0   \n",
              "1                100.56                6496.78                 8787.61      0   \n",
              "2               2143.33                2291.91                 1669.79      1   \n",
              "3               1538.06                1157.15                 1677.16      1   \n",
              "4                286.07               15719.44                15349.75      0   \n",
              "\n",
              "   days_since_last_transaction  doy_lst_tran  woy_lst_tran  moy_lst_tran  \\\n",
              "0                          632         141.0          21.0           5.0   \n",
              "1                          468         305.0          44.0          11.0   \n",
              "2                          555         218.0          32.0           8.0   \n",
              "3                          466         307.0          44.0          11.0   \n",
              "4                          468         305.0          44.0          11.0   \n",
              "\n",
              "   dow_lst_tran  \n",
              "0           1.0  \n",
              "1           4.0  \n",
              "2           1.0  \n",
              "3           6.0  \n",
              "4           4.0  \n",
              "\n",
              "[5 rows x 26 columns]"
            ],
            "text/html": [
              "\n",
              "  <div id=\"df-aa72d360-c1b3-4ff8-b3c6-9e214a017519\" class=\"colab-df-container\">\n",
              "    <div>\n",
              "<style scoped>\n",
              "    .dataframe tbody tr th:only-of-type {\n",
              "        vertical-align: middle;\n",
              "    }\n",
              "\n",
              "    .dataframe tbody tr th {\n",
              "        vertical-align: top;\n",
              "    }\n",
              "\n",
              "    .dataframe thead th {\n",
              "        text-align: right;\n",
              "    }\n",
              "</style>\n",
              "<table border=\"1\" class=\"dataframe\">\n",
              "  <thead>\n",
              "    <tr style=\"text-align: right;\">\n",
              "      <th></th>\n",
              "      <th>Unnamed: 0</th>\n",
              "      <th>customer_id</th>\n",
              "      <th>vintage</th>\n",
              "      <th>age</th>\n",
              "      <th>gender</th>\n",
              "      <th>dependents</th>\n",
              "      <th>occupation</th>\n",
              "      <th>city</th>\n",
              "      <th>customer_nw_category</th>\n",
              "      <th>branch_code</th>\n",
              "      <th>...</th>\n",
              "      <th>current_month_debit</th>\n",
              "      <th>previous_month_debit</th>\n",
              "      <th>current_month_balance</th>\n",
              "      <th>previous_month_balance</th>\n",
              "      <th>churn</th>\n",
              "      <th>days_since_last_transaction</th>\n",
              "      <th>doy_lst_tran</th>\n",
              "      <th>woy_lst_tran</th>\n",
              "      <th>moy_lst_tran</th>\n",
              "      <th>dow_lst_tran</th>\n",
              "    </tr>\n",
              "  </thead>\n",
              "  <tbody>\n",
              "    <tr>\n",
              "      <th>0</th>\n",
              "      <td>0</td>\n",
              "      <td>1</td>\n",
              "      <td>2101</td>\n",
              "      <td>66</td>\n",
              "      <td>1</td>\n",
              "      <td>0.0</td>\n",
              "      <td>3</td>\n",
              "      <td>187.0</td>\n",
              "      <td>2</td>\n",
              "      <td>755.0</td>\n",
              "      <td>...</td>\n",
              "      <td>0.20</td>\n",
              "      <td>0.20</td>\n",
              "      <td>1458.71</td>\n",
              "      <td>1458.71</td>\n",
              "      <td>0</td>\n",
              "      <td>632</td>\n",
              "      <td>141.0</td>\n",
              "      <td>21.0</td>\n",
              "      <td>5.0</td>\n",
              "      <td>1.0</td>\n",
              "    </tr>\n",
              "    <tr>\n",
              "      <th>1</th>\n",
              "      <td>1</td>\n",
              "      <td>2</td>\n",
              "      <td>2348</td>\n",
              "      <td>35</td>\n",
              "      <td>1</td>\n",
              "      <td>0.0</td>\n",
              "      <td>3</td>\n",
              "      <td>1020.0</td>\n",
              "      <td>2</td>\n",
              "      <td>3214.0</td>\n",
              "      <td>...</td>\n",
              "      <td>5486.27</td>\n",
              "      <td>100.56</td>\n",
              "      <td>6496.78</td>\n",
              "      <td>8787.61</td>\n",
              "      <td>0</td>\n",
              "      <td>468</td>\n",
              "      <td>305.0</td>\n",
              "      <td>44.0</td>\n",
              "      <td>11.0</td>\n",
              "      <td>4.0</td>\n",
              "    </tr>\n",
              "    <tr>\n",
              "      <th>2</th>\n",
              "      <td>3</td>\n",
              "      <td>5</td>\n",
              "      <td>2329</td>\n",
              "      <td>90</td>\n",
              "      <td>1</td>\n",
              "      <td>0.0</td>\n",
              "      <td>3</td>\n",
              "      <td>1020.0</td>\n",
              "      <td>2</td>\n",
              "      <td>582.0</td>\n",
              "      <td>...</td>\n",
              "      <td>0.47</td>\n",
              "      <td>2143.33</td>\n",
              "      <td>2291.91</td>\n",
              "      <td>1669.79</td>\n",
              "      <td>1</td>\n",
              "      <td>555</td>\n",
              "      <td>218.0</td>\n",
              "      <td>32.0</td>\n",
              "      <td>8.0</td>\n",
              "      <td>1.0</td>\n",
              "    </tr>\n",
              "    <tr>\n",
              "      <th>3</th>\n",
              "      <td>4</td>\n",
              "      <td>6</td>\n",
              "      <td>1579</td>\n",
              "      <td>42</td>\n",
              "      <td>1</td>\n",
              "      <td>2.0</td>\n",
              "      <td>3</td>\n",
              "      <td>1494.0</td>\n",
              "      <td>3</td>\n",
              "      <td>388.0</td>\n",
              "      <td>...</td>\n",
              "      <td>588.62</td>\n",
              "      <td>1538.06</td>\n",
              "      <td>1157.15</td>\n",
              "      <td>1677.16</td>\n",
              "      <td>1</td>\n",
              "      <td>466</td>\n",
              "      <td>307.0</td>\n",
              "      <td>44.0</td>\n",
              "      <td>11.0</td>\n",
              "      <td>6.0</td>\n",
              "    </tr>\n",
              "    <tr>\n",
              "      <th>4</th>\n",
              "      <td>5</td>\n",
              "      <td>7</td>\n",
              "      <td>1923</td>\n",
              "      <td>42</td>\n",
              "      <td>0</td>\n",
              "      <td>0.0</td>\n",
              "      <td>3</td>\n",
              "      <td>1096.0</td>\n",
              "      <td>2</td>\n",
              "      <td>1666.0</td>\n",
              "      <td>...</td>\n",
              "      <td>857.50</td>\n",
              "      <td>286.07</td>\n",
              "      <td>15719.44</td>\n",
              "      <td>15349.75</td>\n",
              "      <td>0</td>\n",
              "      <td>468</td>\n",
              "      <td>305.0</td>\n",
              "      <td>44.0</td>\n",
              "      <td>11.0</td>\n",
              "      <td>4.0</td>\n",
              "    </tr>\n",
              "  </tbody>\n",
              "</table>\n",
              "<p>5 rows × 26 columns</p>\n",
              "</div>\n",
              "    <div class=\"colab-df-buttons\">\n",
              "\n",
              "  <div class=\"colab-df-container\">\n",
              "    <button class=\"colab-df-convert\" onclick=\"convertToInteractive('df-aa72d360-c1b3-4ff8-b3c6-9e214a017519')\"\n",
              "            title=\"Convert this dataframe to an interactive table.\"\n",
              "            style=\"display:none;\">\n",
              "\n",
              "  <svg xmlns=\"http://www.w3.org/2000/svg\" height=\"24px\" viewBox=\"0 -960 960 960\">\n",
              "    <path d=\"M120-120v-720h720v720H120Zm60-500h600v-160H180v160Zm220 220h160v-160H400v160Zm0 220h160v-160H400v160ZM180-400h160v-160H180v160Zm440 0h160v-160H620v160ZM180-180h160v-160H180v160Zm440 0h160v-160H620v160Z\"/>\n",
              "  </svg>\n",
              "    </button>\n",
              "\n",
              "  <style>\n",
              "    .colab-df-container {\n",
              "      display:flex;\n",
              "      gap: 12px;\n",
              "    }\n",
              "\n",
              "    .colab-df-convert {\n",
              "      background-color: #E8F0FE;\n",
              "      border: none;\n",
              "      border-radius: 50%;\n",
              "      cursor: pointer;\n",
              "      display: none;\n",
              "      fill: #1967D2;\n",
              "      height: 32px;\n",
              "      padding: 0 0 0 0;\n",
              "      width: 32px;\n",
              "    }\n",
              "\n",
              "    .colab-df-convert:hover {\n",
              "      background-color: #E2EBFA;\n",
              "      box-shadow: 0px 1px 2px rgba(60, 64, 67, 0.3), 0px 1px 3px 1px rgba(60, 64, 67, 0.15);\n",
              "      fill: #174EA6;\n",
              "    }\n",
              "\n",
              "    .colab-df-buttons div {\n",
              "      margin-bottom: 4px;\n",
              "    }\n",
              "\n",
              "    [theme=dark] .colab-df-convert {\n",
              "      background-color: #3B4455;\n",
              "      fill: #D2E3FC;\n",
              "    }\n",
              "\n",
              "    [theme=dark] .colab-df-convert:hover {\n",
              "      background-color: #434B5C;\n",
              "      box-shadow: 0px 1px 3px 1px rgba(0, 0, 0, 0.15);\n",
              "      filter: drop-shadow(0px 1px 2px rgba(0, 0, 0, 0.3));\n",
              "      fill: #FFFFFF;\n",
              "    }\n",
              "  </style>\n",
              "\n",
              "    <script>\n",
              "      const buttonEl =\n",
              "        document.querySelector('#df-aa72d360-c1b3-4ff8-b3c6-9e214a017519 button.colab-df-convert');\n",
              "      buttonEl.style.display =\n",
              "        google.colab.kernel.accessAllowed ? 'block' : 'none';\n",
              "\n",
              "      async function convertToInteractive(key) {\n",
              "        const element = document.querySelector('#df-aa72d360-c1b3-4ff8-b3c6-9e214a017519');\n",
              "        const dataTable =\n",
              "          await google.colab.kernel.invokeFunction('convertToInteractive',\n",
              "                                                    [key], {});\n",
              "        if (!dataTable) return;\n",
              "\n",
              "        const docLinkHtml = 'Like what you see? Visit the ' +\n",
              "          '<a target=\"_blank\" href=https://colab.research.google.com/notebooks/data_table.ipynb>data table notebook</a>'\n",
              "          + ' to learn more about interactive tables.';\n",
              "        element.innerHTML = '';\n",
              "        dataTable['output_type'] = 'display_data';\n",
              "        await google.colab.output.renderOutput(dataTable, element);\n",
              "        const docLink = document.createElement('div');\n",
              "        docLink.innerHTML = docLinkHtml;\n",
              "        element.appendChild(docLink);\n",
              "      }\n",
              "    </script>\n",
              "  </div>\n",
              "\n",
              "\n",
              "<div id=\"df-4a564645-7d65-450f-a43e-0cc727777a91\">\n",
              "  <button class=\"colab-df-quickchart\" onclick=\"quickchart('df-4a564645-7d65-450f-a43e-0cc727777a91')\"\n",
              "            title=\"Suggest charts\"\n",
              "            style=\"display:none;\">\n",
              "\n",
              "<svg xmlns=\"http://www.w3.org/2000/svg\" height=\"24px\"viewBox=\"0 0 24 24\"\n",
              "     width=\"24px\">\n",
              "    <g>\n",
              "        <path d=\"M19 3H5c-1.1 0-2 .9-2 2v14c0 1.1.9 2 2 2h14c1.1 0 2-.9 2-2V5c0-1.1-.9-2-2-2zM9 17H7v-7h2v7zm4 0h-2V7h2v10zm4 0h-2v-4h2v4z\"/>\n",
              "    </g>\n",
              "</svg>\n",
              "  </button>\n",
              "\n",
              "<style>\n",
              "  .colab-df-quickchart {\n",
              "      --bg-color: #E8F0FE;\n",
              "      --fill-color: #1967D2;\n",
              "      --hover-bg-color: #E2EBFA;\n",
              "      --hover-fill-color: #174EA6;\n",
              "      --disabled-fill-color: #AAA;\n",
              "      --disabled-bg-color: #DDD;\n",
              "  }\n",
              "\n",
              "  [theme=dark] .colab-df-quickchart {\n",
              "      --bg-color: #3B4455;\n",
              "      --fill-color: #D2E3FC;\n",
              "      --hover-bg-color: #434B5C;\n",
              "      --hover-fill-color: #FFFFFF;\n",
              "      --disabled-bg-color: #3B4455;\n",
              "      --disabled-fill-color: #666;\n",
              "  }\n",
              "\n",
              "  .colab-df-quickchart {\n",
              "    background-color: var(--bg-color);\n",
              "    border: none;\n",
              "    border-radius: 50%;\n",
              "    cursor: pointer;\n",
              "    display: none;\n",
              "    fill: var(--fill-color);\n",
              "    height: 32px;\n",
              "    padding: 0;\n",
              "    width: 32px;\n",
              "  }\n",
              "\n",
              "  .colab-df-quickchart:hover {\n",
              "    background-color: var(--hover-bg-color);\n",
              "    box-shadow: 0 1px 2px rgba(60, 64, 67, 0.3), 0 1px 3px 1px rgba(60, 64, 67, 0.15);\n",
              "    fill: var(--button-hover-fill-color);\n",
              "  }\n",
              "\n",
              "  .colab-df-quickchart-complete:disabled,\n",
              "  .colab-df-quickchart-complete:disabled:hover {\n",
              "    background-color: var(--disabled-bg-color);\n",
              "    fill: var(--disabled-fill-color);\n",
              "    box-shadow: none;\n",
              "  }\n",
              "\n",
              "  .colab-df-spinner {\n",
              "    border: 2px solid var(--fill-color);\n",
              "    border-color: transparent;\n",
              "    border-bottom-color: var(--fill-color);\n",
              "    animation:\n",
              "      spin 1s steps(1) infinite;\n",
              "  }\n",
              "\n",
              "  @keyframes spin {\n",
              "    0% {\n",
              "      border-color: transparent;\n",
              "      border-bottom-color: var(--fill-color);\n",
              "      border-left-color: var(--fill-color);\n",
              "    }\n",
              "    20% {\n",
              "      border-color: transparent;\n",
              "      border-left-color: var(--fill-color);\n",
              "      border-top-color: var(--fill-color);\n",
              "    }\n",
              "    30% {\n",
              "      border-color: transparent;\n",
              "      border-left-color: var(--fill-color);\n",
              "      border-top-color: var(--fill-color);\n",
              "      border-right-color: var(--fill-color);\n",
              "    }\n",
              "    40% {\n",
              "      border-color: transparent;\n",
              "      border-right-color: var(--fill-color);\n",
              "      border-top-color: var(--fill-color);\n",
              "    }\n",
              "    60% {\n",
              "      border-color: transparent;\n",
              "      border-right-color: var(--fill-color);\n",
              "    }\n",
              "    80% {\n",
              "      border-color: transparent;\n",
              "      border-right-color: var(--fill-color);\n",
              "      border-bottom-color: var(--fill-color);\n",
              "    }\n",
              "    90% {\n",
              "      border-color: transparent;\n",
              "      border-bottom-color: var(--fill-color);\n",
              "    }\n",
              "  }\n",
              "</style>\n",
              "\n",
              "  <script>\n",
              "    async function quickchart(key) {\n",
              "      const quickchartButtonEl =\n",
              "        document.querySelector('#' + key + ' button');\n",
              "      quickchartButtonEl.disabled = true;  // To prevent multiple clicks.\n",
              "      quickchartButtonEl.classList.add('colab-df-spinner');\n",
              "      try {\n",
              "        const charts = await google.colab.kernel.invokeFunction(\n",
              "            'suggestCharts', [key], {});\n",
              "      } catch (error) {\n",
              "        console.error('Error during call to suggestCharts:', error);\n",
              "      }\n",
              "      quickchartButtonEl.classList.remove('colab-df-spinner');\n",
              "      quickchartButtonEl.classList.add('colab-df-quickchart-complete');\n",
              "    }\n",
              "    (() => {\n",
              "      let quickchartButtonEl =\n",
              "        document.querySelector('#df-4a564645-7d65-450f-a43e-0cc727777a91 button');\n",
              "      quickchartButtonEl.style.display =\n",
              "        google.colab.kernel.accessAllowed ? 'block' : 'none';\n",
              "    })();\n",
              "  </script>\n",
              "</div>\n",
              "\n",
              "    </div>\n",
              "  </div>\n"
            ]
          },
          "metadata": {},
          "execution_count": 39
        }
      ],
      "source": [
        "data.head()"
      ]
    },
    {
      "cell_type": "code",
      "execution_count": 40,
      "metadata": {
        "id": "zmoNW0m3x05N",
        "colab": {
          "base_uri": "https://localhost:8080/"
        },
        "outputId": "de15e2c0-0cac-4e59-f42d-156f1ed90c83"
      },
      "outputs": [
        {
          "output_type": "execute_result",
          "data": {
            "text/plain": [
              "0    0.802814\n",
              "1    0.197186\n",
              "Name: churn, dtype: float64"
            ]
          },
          "metadata": {},
          "execution_count": 40
        }
      ],
      "source": [
        "data.churn.value_counts(normalize=True)"
      ]
    },
    {
      "cell_type": "markdown",
      "metadata": {
        "id": "_XUEY87QYl6D"
      },
      "source": [
        "**Separating dependent and independent** **variables**"
      ]
    },
    {
      "cell_type": "code",
      "execution_count": 41,
      "metadata": {
        "id": "Q9hPeT6bx02K"
      },
      "outputs": [],
      "source": [
        "X = data.drop(columns=['churn','Unnamed: 0','customer_id'])\n",
        "Y = data['churn']"
      ]
    },
    {
      "cell_type": "markdown",
      "metadata": {
        "id": "oIwMVXVnYt8K"
      },
      "source": [
        "**Scaling the dataset**"
      ]
    },
    {
      "cell_type": "code",
      "execution_count": 42,
      "metadata": {
        "id": "D9UazzQ9x0zY"
      },
      "outputs": [],
      "source": [
        "from sklearn.preprocessing import StandardScaler\n",
        "scaler = StandardScaler()\n",
        "scaled_X = scaler.fit_transform(X)"
      ]
    },
    {
      "cell_type": "markdown",
      "metadata": {
        "id": "dNdsHd6GY3Ll"
      },
      "source": [
        "**Splitting the dataset**"
      ]
    },
    {
      "cell_type": "code",
      "execution_count": 43,
      "metadata": {
        "id": "Y6vjtLqtx0wp",
        "colab": {
          "base_uri": "https://localhost:8080/"
        },
        "outputId": "d5b896e8-af26-4b74-853b-c327dcbd72c4"
      },
      "outputs": [
        {
          "output_type": "execute_result",
          "data": {
            "text/plain": [
              "((20127, 23), (5032, 23), (20127,), (5032,))"
            ]
          },
          "metadata": {},
          "execution_count": 43
        }
      ],
      "source": [
        "from sklearn.model_selection import train_test_split as tts\n",
        "X_train, X_test, y_train, y_test = tts(scaled_X, Y, train_size = 0.80, random_state=42)\n",
        "X_train.shape,X_test.shape, y_train.shape, y_test.shape"
      ]
    },
    {
      "cell_type": "markdown",
      "metadata": {
        "id": "QIU30mTuY8yv"
      },
      "source": [
        "**Model Building, Random Forest**"
      ]
    },
    {
      "cell_type": "code",
      "execution_count": 44,
      "metadata": {
        "id": "tgMOzpmfyXNW",
        "colab": {
          "base_uri": "https://localhost:8080/",
          "height": 74
        },
        "outputId": "5fbfef53-48d7-4e7d-a344-a50833f46960"
      },
      "outputs": [
        {
          "output_type": "execute_result",
          "data": {
            "text/plain": [
              "RandomForestClassifier()"
            ],
            "text/html": [
              "<style>#sk-container-id-4 {color: black;background-color: white;}#sk-container-id-4 pre{padding: 0;}#sk-container-id-4 div.sk-toggleable {background-color: white;}#sk-container-id-4 label.sk-toggleable__label {cursor: pointer;display: block;width: 100%;margin-bottom: 0;padding: 0.3em;box-sizing: border-box;text-align: center;}#sk-container-id-4 label.sk-toggleable__label-arrow:before {content: \"▸\";float: left;margin-right: 0.25em;color: #696969;}#sk-container-id-4 label.sk-toggleable__label-arrow:hover:before {color: black;}#sk-container-id-4 div.sk-estimator:hover label.sk-toggleable__label-arrow:before {color: black;}#sk-container-id-4 div.sk-toggleable__content {max-height: 0;max-width: 0;overflow: hidden;text-align: left;background-color: #f0f8ff;}#sk-container-id-4 div.sk-toggleable__content pre {margin: 0.2em;color: black;border-radius: 0.25em;background-color: #f0f8ff;}#sk-container-id-4 input.sk-toggleable__control:checked~div.sk-toggleable__content {max-height: 200px;max-width: 100%;overflow: auto;}#sk-container-id-4 input.sk-toggleable__control:checked~label.sk-toggleable__label-arrow:before {content: \"▾\";}#sk-container-id-4 div.sk-estimator input.sk-toggleable__control:checked~label.sk-toggleable__label {background-color: #d4ebff;}#sk-container-id-4 div.sk-label input.sk-toggleable__control:checked~label.sk-toggleable__label {background-color: #d4ebff;}#sk-container-id-4 input.sk-hidden--visually {border: 0;clip: rect(1px 1px 1px 1px);clip: rect(1px, 1px, 1px, 1px);height: 1px;margin: -1px;overflow: hidden;padding: 0;position: absolute;width: 1px;}#sk-container-id-4 div.sk-estimator {font-family: monospace;background-color: #f0f8ff;border: 1px dotted black;border-radius: 0.25em;box-sizing: border-box;margin-bottom: 0.5em;}#sk-container-id-4 div.sk-estimator:hover {background-color: #d4ebff;}#sk-container-id-4 div.sk-parallel-item::after {content: \"\";width: 100%;border-bottom: 1px solid gray;flex-grow: 1;}#sk-container-id-4 div.sk-label:hover label.sk-toggleable__label {background-color: #d4ebff;}#sk-container-id-4 div.sk-serial::before {content: \"\";position: absolute;border-left: 1px solid gray;box-sizing: border-box;top: 0;bottom: 0;left: 50%;z-index: 0;}#sk-container-id-4 div.sk-serial {display: flex;flex-direction: column;align-items: center;background-color: white;padding-right: 0.2em;padding-left: 0.2em;position: relative;}#sk-container-id-4 div.sk-item {position: relative;z-index: 1;}#sk-container-id-4 div.sk-parallel {display: flex;align-items: stretch;justify-content: center;background-color: white;position: relative;}#sk-container-id-4 div.sk-item::before, #sk-container-id-4 div.sk-parallel-item::before {content: \"\";position: absolute;border-left: 1px solid gray;box-sizing: border-box;top: 0;bottom: 0;left: 50%;z-index: -1;}#sk-container-id-4 div.sk-parallel-item {display: flex;flex-direction: column;z-index: 1;position: relative;background-color: white;}#sk-container-id-4 div.sk-parallel-item:first-child::after {align-self: flex-end;width: 50%;}#sk-container-id-4 div.sk-parallel-item:last-child::after {align-self: flex-start;width: 50%;}#sk-container-id-4 div.sk-parallel-item:only-child::after {width: 0;}#sk-container-id-4 div.sk-dashed-wrapped {border: 1px dashed gray;margin: 0 0.4em 0.5em 0.4em;box-sizing: border-box;padding-bottom: 0.4em;background-color: white;}#sk-container-id-4 div.sk-label label {font-family: monospace;font-weight: bold;display: inline-block;line-height: 1.2em;}#sk-container-id-4 div.sk-label-container {text-align: center;}#sk-container-id-4 div.sk-container {/* jupyter's `normalize.less` sets `[hidden] { display: none; }` but bootstrap.min.css set `[hidden] { display: none !important; }` so we also need the `!important` here to be able to override the default hidden behavior on the sphinx rendered scikit-learn.org. See: https://github.com/scikit-learn/scikit-learn/issues/21755 */display: inline-block !important;position: relative;}#sk-container-id-4 div.sk-text-repr-fallback {display: none;}</style><div id=\"sk-container-id-4\" class=\"sk-top-container\"><div class=\"sk-text-repr-fallback\"><pre>RandomForestClassifier()</pre><b>In a Jupyter environment, please rerun this cell to show the HTML representation or trust the notebook. <br />On GitHub, the HTML representation is unable to render, please try loading this page with nbviewer.org.</b></div><div class=\"sk-container\" hidden><div class=\"sk-item\"><div class=\"sk-estimator sk-toggleable\"><input class=\"sk-toggleable__control sk-hidden--visually\" id=\"sk-estimator-id-6\" type=\"checkbox\" checked><label for=\"sk-estimator-id-6\" class=\"sk-toggleable__label sk-toggleable__label-arrow\">RandomForestClassifier</label><div class=\"sk-toggleable__content\"><pre>RandomForestClassifier()</pre></div></div></div></div></div>"
            ]
          },
          "metadata": {},
          "execution_count": 44
        }
      ],
      "source": [
        "from sklearn.ensemble import RandomForestClassifier as RFC\n",
        "forest = RFC()\n",
        "forest.fit(X_train,y_train)"
      ]
    },
    {
      "cell_type": "markdown",
      "metadata": {
        "id": "62P5wAbpZfYQ"
      },
      "source": [
        "**Checking the performance of the model**"
      ]
    },
    {
      "cell_type": "code",
      "execution_count": 45,
      "metadata": {
        "id": "qD6QJAVZyXJ7",
        "colab": {
          "base_uri": "https://localhost:8080/"
        },
        "outputId": "c7747010-e0d5-4457-e3ee-bec227987d4a"
      },
      "outputs": [
        {
          "output_type": "stream",
          "name": "stdout",
          "text": [
            "              precision    recall  f1-score   support\n",
            "\n",
            "           0       1.00      1.00      1.00     16169\n",
            "           1       1.00      1.00      1.00      3958\n",
            "\n",
            "    accuracy                           1.00     20127\n",
            "   macro avg       1.00      1.00      1.00     20127\n",
            "weighted avg       1.00      1.00      1.00     20127\n",
            "\n"
          ]
        }
      ],
      "source": [
        "from sklearn.metrics import classification_report\n",
        "predicted_values = forest.predict(X_train)\n",
        "print(classification_report(y_train,predicted_values))"
      ]
    },
    {
      "cell_type": "code",
      "execution_count": 46,
      "metadata": {
        "id": "4JZeJBV4yXG2",
        "colab": {
          "base_uri": "https://localhost:8080/"
        },
        "outputId": "5744fc01-bc16-4f14-e7d7-43300d2c8d58"
      },
      "outputs": [
        {
          "output_type": "stream",
          "name": "stdout",
          "text": [
            "              precision    recall  f1-score   support\n",
            "\n",
            "           0       0.87      0.96      0.91      4029\n",
            "           1       0.71      0.44      0.54      1003\n",
            "\n",
            "    accuracy                           0.85      5032\n",
            "   macro avg       0.79      0.70      0.73      5032\n",
            "weighted avg       0.84      0.85      0.84      5032\n",
            "\n"
          ]
        }
      ],
      "source": [
        "predicted_values = forest.predict(X_test)\n",
        "print(classification_report(y_test,predicted_values))"
      ]
    },
    {
      "cell_type": "code",
      "execution_count": 47,
      "metadata": {
        "id": "dnt-hIhLyXEF"
      },
      "outputs": [],
      "source": [
        "from sklearn.metrics import f1_score\n",
        "def calc_score(model, x1, y1, x2, y2):\n",
        "      model.fit(x1,y1)\n",
        "      predict = model.predict(x1)\n",
        "      f1 = f1_score(y1, predict)\n",
        "      predict = model.predict(x2)\n",
        "      f2 = f1_score(y2, predict)\n",
        "      return f1, f2"
      ]
    },
    {
      "cell_type": "code",
      "execution_count": 48,
      "metadata": {
        "id": "3v_IEx0pyXBZ"
      },
      "outputs": [],
      "source": [
        "def effect(train_score, test_score, x_axis, title):\n",
        "    plt.figure(figsize = (7,4), dpi = 120)\n",
        "    plt.plot(x_axis, train_score, color = 'red', label = 'train_Score')\n",
        "    plt.plot(x_axis, test_score, color = 'blue', label = 'test_Score')\n",
        "    plt.title(title)\n",
        "    plt.legend()\n",
        "    plt.xlabel(\"parameter_value\")\n",
        "    plt.ylabel(\"f1 score\")\n",
        "    plt.show()\n"
      ]
    },
    {
      "cell_type": "code",
      "execution_count": 13,
      "metadata": {
        "id": "gejY6YMkzTo9"
      },
      "outputs": [],
      "source": [
        "estimators = [i for i in range(1,600,10)]\n",
        "train = []\n",
        "test = []\n",
        "\n",
        "for i in estimators:\n",
        "    model = RFC(class_weight = 'balanced_subsample',\n",
        "              n_estimators = i,\n",
        "              n_jobs = -1,\n",
        "              random_state = 101)\n",
        "    f1, f2 = calc_score(model, X_train, y_train, X_test, y_test)\n",
        "    train.append(f1)\n",
        "    test.append(f2)"
      ]
    },
    {
      "cell_type": "code",
      "execution_count": 14,
      "metadata": {
        "id": "zl0yloB2zTli",
        "colab": {
          "base_uri": "https://localhost:8080/",
          "height": 963
        },
        "outputId": "c235163c-5f99-4bcf-87ea-7edf600fdf0f"
      },
      "outputs": [
        {
          "output_type": "display_data",
          "data": {
            "text/plain": [
              "<Figure size 840x480 with 1 Axes>"
            ],
            "image/png": "[encoded data removed]"
          },
          "metadata": {}
        },
        {
          "output_type": "display_data",
          "data": {
            "text/plain": [
              "<Figure size 840x480 with 1 Axes>"
            ],
            "image/png": "[encoded data removed]"
          },
          "metadata": {}
        }
      ],
      "source": [
        "effect(train,test,range(1,600,10),'n_estimators')"
      ]
    },
    {
      "cell_type": "code",
      "execution_count": 15,
      "metadata": {
        "id": "HSp-xlNRzTip"
      },
      "outputs": [],
      "source": [
        "maxfeatures = range(1,X.shape[1])\n",
        "train = []\n",
        "test = []\n",
        "\n",
        "for i in maxfeatures:\n",
        "    model = RFC(class_weight = 'balanced_subsample', n_estimators = 51, max_samples=0.5,\n",
        "              n_jobs = -1, random_state = 101, max_features = i)\n",
        "    f1, f2 = calc_score(model, X_train, y_train, X_test, y_test)\n",
        "    train.append(f1)\n",
        "    test.append(f2)"
      ]
    },
    {
      "cell_type": "code",
      "execution_count": null,
      "metadata": {
        "id": "Cs2YFDAYzTgA"
      },
      "outputs": [],
      "source": [
        "effect( train, test, maxfeatures , 'number of max features for individual tree')"
      ]
    },
    {
      "cell_type": "code",
      "execution_count": null,
      "metadata": {
        "id": "Q8VarnRUzTda"
      },
      "outputs": [],
      "source": [
        "diff = [i-j for i,j in zip(train,test)]\n",
        "max_features_df = pd.DataFrame({'max_features':maxfeatures,\n",
        "                                'Train_Score':train,\n",
        "                                'Test_Score':test,\n",
        "                                'Difference':diff})\n",
        "max_features_df.iloc[5:20]"
      ]
    },
    {
      "cell_type": "code",
      "execution_count": null,
      "metadata": {
        "id": "8EBsCcyuzyGb"
      },
      "outputs": [],
      "source": [
        "len(X.columns)"
      ]
    },
    {
      "cell_type": "code",
      "execution_count": null,
      "metadata": {
        "id": "ETAtYZmQ_nOw"
      },
      "outputs": [],
      "source": [
        "from sklearn.model_selection import RandomizedSearchCV\n",
        "n_estimators = [int(x) for x in np.linspace(start=45,stop=60,num=10)]\n",
        "max_features = [4,8,12,16]\n",
        "max_samples = [float(x) for x in np.linspace(0.04,0.4,num=50)]\n",
        "max_depth = [int(x) for x in np.linspace(5,20,num=5)]\n",
        "max_depth.append(None)\n",
        "min_samples_split=[int(x) for x in np.linspace(2,500,15)]\n",
        "min_samples_leaf = [int(x) for x in np.linspace(1,500,20)]\n",
        "bootstrap = [True,False]\n",
        "\n",
        "random_grid = {'n_estimators':n_estimators,\n",
        "               'max_samples':max_samples,\n",
        "               'max_features':max_features,\n",
        "               'max_depth':max_depth,\n",
        "               'min_samples_split':min_samples_split,\n",
        "               'min_samples_leaf':min_samples_leaf,\n",
        "               'bootstrap':bootstrap}\n",
        "from pprint import pprint\n",
        "pprint(random_grid)"
      ]
    },
    {
      "cell_type": "markdown",
      "metadata": {
        "id": "Tq6pQyg_Z3P2"
      },
      "source": [
        "**Random Search Training**"
      ]
    },
    {
      "cell_type": "code",
      "execution_count": 20,
      "metadata": {
        "id": "XYFRxXuMzyBA",
        "colab": {
          "base_uri": "https://localhost:8080/",
          "height": 217
        },
        "outputId": "4f2a1fd4-342b-44f8-b9c9-a7560a7b2460"
      },
      "outputs": [
        {
          "output_type": "execute_result",
          "data": {
            "text/plain": [
              "RandomizedSearchCV(cv=3, estimator=RandomForestClassifier(), n_iter=80,\n",
              "                   n_jobs=-1,\n",
              "                   param_distributions={'bootstrap': [True, False],\n",
              "                                        'max_depth': [5, 8, 12, 16, 20, None],\n",
              "                                        'max_features': [4, 8, 12, 16],\n",
              "                                        'max_samples': [0.04,\n",
              "                                                        0.0473469387755102,\n",
              "                                                        0.05469387755102041,\n",
              "                                                        0.062040816326530614,\n",
              "                                                        0.06938775510204082,\n",
              "                                                        0.07673469387755102,\n",
              "                                                        0.08408163265306123,\n",
              "                                                        0.09142857142857144,\n",
              "                                                        0.0987...\n",
              "                                                        0.22367346938775512,\n",
              "                                                        0.23102040816326533,\n",
              "                                                        0.23836734693877554,\n",
              "                                                        0.24571428571428575,\n",
              "                                                        0.2530612244897959, ...],\n",
              "                                        'min_samples_leaf': [1, 27, 53, 79, 106,\n",
              "                                                             132, 158, 184, 211,\n",
              "                                                             237, 263, 289, 316,\n",
              "                                                             342, 368, 394, 421,\n",
              "                                                             447, 473, 500],\n",
              "                                        'min_samples_split': [2, 37, 73, 108,\n",
              "                                                              144, 179, 215,\n",
              "                                                              251, 286, 322,\n",
              "                                                              357, 393, 428,\n",
              "                                                              464, 500],\n",
              "                                        'n_estimators': [45, 46, 48, 50, 51, 53,\n",
              "                                                         55, 56, 58, 60]},\n",
              "                   random_state=42, verbose=2)"
            ],
            "text/html": [
              "<style>#sk-container-id-2 {color: black;background-color: white;}#sk-container-id-2 pre{padding: 0;}#sk-container-id-2 div.sk-toggleable {background-color: white;}#sk-container-id-2 label.sk-toggleable__label {cursor: pointer;display: block;width: 100%;margin-bottom: 0;padding: 0.3em;box-sizing: border-box;text-align: center;}#sk-container-id-2 label.sk-toggleable__label-arrow:before {content: \"▸\";float: left;margin-right: 0.25em;color: #696969;}#sk-container-id-2 label.sk-toggleable__label-arrow:hover:before {color: black;}#sk-container-id-2 div.sk-estimator:hover label.sk-toggleable__label-arrow:before {color: black;}#sk-container-id-2 div.sk-toggleable__content {max-height: 0;max-width: 0;overflow: hidden;text-align: left;background-color: #f0f8ff;}#sk-container-id-2 div.sk-toggleable__content pre {margin: 0.2em;color: black;border-radius: 0.25em;background-color: #f0f8ff;}#sk-container-id-2 input.sk-toggleable__control:checked~div.sk-toggleable__content {max-height: 200px;max-width: 100%;overflow: auto;}#sk-container-id-2 input.sk-toggleable__control:checked~label.sk-toggleable__label-arrow:before {content: \"▾\";}#sk-container-id-2 div.sk-estimator input.sk-toggleable__control:checked~label.sk-toggleable__label {background-color: #d4ebff;}#sk-container-id-2 div.sk-label input.sk-toggleable__control:checked~label.sk-toggleable__label {background-color: #d4ebff;}#sk-container-id-2 input.sk-hidden--visually {border: 0;clip: rect(1px 1px 1px 1px);clip: rect(1px, 1px, 1px, 1px);height: 1px;margin: -1px;overflow: hidden;padding: 0;position: absolute;width: 1px;}#sk-container-id-2 div.sk-estimator {font-family: monospace;background-color: #f0f8ff;border: 1px dotted black;border-radius: 0.25em;box-sizing: border-box;margin-bottom: 0.5em;}#sk-container-id-2 div.sk-estimator:hover {background-color: #d4ebff;}#sk-container-id-2 div.sk-parallel-item::after {content: \"\";width: 100%;border-bottom: 1px solid gray;flex-grow: 1;}#sk-container-id-2 div.sk-label:hover label.sk-toggleable__label {background-color: #d4ebff;}#sk-container-id-2 div.sk-serial::before {content: \"\";position: absolute;border-left: 1px solid gray;box-sizing: border-box;top: 0;bottom: 0;left: 50%;z-index: 0;}#sk-container-id-2 div.sk-serial {display: flex;flex-direction: column;align-items: center;background-color: white;padding-right: 0.2em;padding-left: 0.2em;position: relative;}#sk-container-id-2 div.sk-item {position: relative;z-index: 1;}#sk-container-id-2 div.sk-parallel {display: flex;align-items: stretch;justify-content: center;background-color: white;position: relative;}#sk-container-id-2 div.sk-item::before, #sk-container-id-2 div.sk-parallel-item::before {content: \"\";position: absolute;border-left: 1px solid gray;box-sizing: border-box;top: 0;bottom: 0;left: 50%;z-index: -1;}#sk-container-id-2 div.sk-parallel-item {display: flex;flex-direction: column;z-index: 1;position: relative;background-color: white;}#sk-container-id-2 div.sk-parallel-item:first-child::after {align-self: flex-end;width: 50%;}#sk-container-id-2 div.sk-parallel-item:last-child::after {align-self: flex-start;width: 50%;}#sk-container-id-2 div.sk-parallel-item:only-child::after {width: 0;}#sk-container-id-2 div.sk-dashed-wrapped {border: 1px dashed gray;margin: 0 0.4em 0.5em 0.4em;box-sizing: border-box;padding-bottom: 0.4em;background-color: white;}#sk-container-id-2 div.sk-label label {font-family: monospace;font-weight: bold;display: inline-block;line-height: 1.2em;}#sk-container-id-2 div.sk-label-container {text-align: center;}#sk-container-id-2 div.sk-container {/* jupyter's `normalize.less` sets `[hidden] { display: none; }` but bootstrap.min.css set `[hidden] { display: none !important; }` so we also need the `!important` here to be able to override the default hidden behavior on the sphinx rendered scikit-learn.org. See: https://github.com/scikit-learn/scikit-learn/issues/21755 */display: inline-block !important;position: relative;}#sk-container-id-2 div.sk-text-repr-fallback {display: none;}</style><div id=\"sk-container-id-2\" class=\"sk-top-container\"><div class=\"sk-text-repr-fallback\"><pre>RandomizedSearchCV(cv=3, estimator=RandomForestClassifier(), n_iter=80,\n",
              "                   n_jobs=-1,\n",
              "                   param_distributions={&#x27;bootstrap&#x27;: [True, False],\n",
              "                                        &#x27;max_depth&#x27;: [5, 8, 12, 16, 20, None],\n",
              "                                        &#x27;max_features&#x27;: [4, 8, 12, 16],\n",
              "                                        &#x27;max_samples&#x27;: [0.04,\n",
              "                                                        0.0473469387755102,\n",
              "                                                        0.05469387755102041,\n",
              "                                                        0.062040816326530614,\n",
              "                                                        0.06938775510204082,\n",
              "                                                        0.07673469387755102,\n",
              "                                                        0.08408163265306123,\n",
              "                                                        0.09142857142857144,\n",
              "                                                        0.0987...\n",
              "                                                        0.22367346938775512,\n",
              "                                                        0.23102040816326533,\n",
              "                                                        0.23836734693877554,\n",
              "                                                        0.24571428571428575,\n",
              "                                                        0.2530612244897959, ...],\n",
              "                                        &#x27;min_samples_leaf&#x27;: [1, 27, 53, 79, 106,\n",
              "                                                             132, 158, 184, 211,\n",
              "                                                             237, 263, 289, 316,\n",
              "                                                             342, 368, 394, 421,\n",
              "                                                             447, 473, 500],\n",
              "                                        &#x27;min_samples_split&#x27;: [2, 37, 73, 108,\n",
              "                                                              144, 179, 215,\n",
              "                                                              251, 286, 322,\n",
              "                                                              357, 393, 428,\n",
              "                                                              464, 500],\n",
              "                                        &#x27;n_estimators&#x27;: [45, 46, 48, 50, 51, 53,\n",
              "                                                         55, 56, 58, 60]},\n",
              "                   random_state=42, verbose=2)</pre><b>In a Jupyter environment, please rerun this cell to show the HTML representation or trust the notebook. <br />On GitHub, the HTML representation is unable to render, please try loading this page with nbviewer.org.</b></div><div class=\"sk-container\" hidden><div class=\"sk-item sk-dashed-wrapped\"><div class=\"sk-label-container\"><div class=\"sk-label sk-toggleable\"><input class=\"sk-toggleable__control sk-hidden--visually\" id=\"sk-estimator-id-2\" type=\"checkbox\" ><label for=\"sk-estimator-id-2\" class=\"sk-toggleable__label sk-toggleable__label-arrow\">RandomizedSearchCV</label><div class=\"sk-toggleable__content\"><pre>RandomizedSearchCV(cv=3, estimator=RandomForestClassifier(), n_iter=80,\n",
              "                   n_jobs=-1,\n",
              "                   param_distributions={&#x27;bootstrap&#x27;: [True, False],\n",
              "                                        &#x27;max_depth&#x27;: [5, 8, 12, 16, 20, None],\n",
              "                                        &#x27;max_features&#x27;: [4, 8, 12, 16],\n",
              "                                        &#x27;max_samples&#x27;: [0.04,\n",
              "                                                        0.0473469387755102,\n",
              "                                                        0.05469387755102041,\n",
              "                                                        0.062040816326530614,\n",
              "                                                        0.06938775510204082,\n",
              "                                                        0.07673469387755102,\n",
              "                                                        0.08408163265306123,\n",
              "                                                        0.09142857142857144,\n",
              "                                                        0.0987...\n",
              "                                                        0.22367346938775512,\n",
              "                                                        0.23102040816326533,\n",
              "                                                        0.23836734693877554,\n",
              "                                                        0.24571428571428575,\n",
              "                                                        0.2530612244897959, ...],\n",
              "                                        &#x27;min_samples_leaf&#x27;: [1, 27, 53, 79, 106,\n",
              "                                                             132, 158, 184, 211,\n",
              "                                                             237, 263, 289, 316,\n",
              "                                                             342, 368, 394, 421,\n",
              "                                                             447, 473, 500],\n",
              "                                        &#x27;min_samples_split&#x27;: [2, 37, 73, 108,\n",
              "                                                              144, 179, 215,\n",
              "                                                              251, 286, 322,\n",
              "                                                              357, 393, 428,\n",
              "                                                              464, 500],\n",
              "                                        &#x27;n_estimators&#x27;: [45, 46, 48, 50, 51, 53,\n",
              "                                                         55, 56, 58, 60]},\n",
              "                   random_state=42, verbose=2)</pre></div></div></div><div class=\"sk-parallel\"><div class=\"sk-parallel-item\"><div class=\"sk-item\"><div class=\"sk-label-container\"><div class=\"sk-label sk-toggleable\"><input class=\"sk-toggleable__control sk-hidden--visually\" id=\"sk-estimator-id-3\" type=\"checkbox\" ><label for=\"sk-estimator-id-3\" class=\"sk-toggleable__label sk-toggleable__label-arrow\">estimator: RandomForestClassifier</label><div class=\"sk-toggleable__content\"><pre>RandomForestClassifier()</pre></div></div></div><div class=\"sk-serial\"><div class=\"sk-item\"><div class=\"sk-estimator sk-toggleable\"><input class=\"sk-toggleable__control sk-hidden--visually\" id=\"sk-estimator-id-4\" type=\"checkbox\" ><label for=\"sk-estimator-id-4\" class=\"sk-toggleable__label sk-toggleable__label-arrow\">RandomForestClassifier</label><div class=\"sk-toggleable__content\"><pre>RandomForestClassifier()</pre></div></div></div></div></div></div></div></div></div></div>"
            ]
          },
          "metadata": {},
          "execution_count": 20
        },
        {
          "output_type": "execute_result",
          "data": {
            "text/plain": [
              "RandomizedSearchCV(cv=3, estimator=RandomForestClassifier(), n_iter=80,\n",
              "                   n_jobs=-1,\n",
              "                   param_distributions={'bootstrap': [True, False],\n",
              "                                        'max_depth': [5, 8, 12, 16, 20, None],\n",
              "                                        'max_features': [4, 8, 12, 16],\n",
              "                                        'max_samples': [0.04,\n",
              "                                                        0.0473469387755102,\n",
              "                                                        0.05469387755102041,\n",
              "                                                        0.062040816326530614,\n",
              "                                                        0.06938775510204082,\n",
              "                                                        0.07673469387755102,\n",
              "                                                        0.08408163265306123,\n",
              "                                                        0.09142857142857144,\n",
              "                                                        0.0987...\n",
              "                                                        0.22367346938775512,\n",
              "                                                        0.23102040816326533,\n",
              "                                                        0.23836734693877554,\n",
              "                                                        0.24571428571428575,\n",
              "                                                        0.2530612244897959, ...],\n",
              "                                        'min_samples_leaf': [1, 27, 53, 79, 106,\n",
              "                                                             132, 158, 184, 211,\n",
              "                                                             237, 263, 289, 316,\n",
              "                                                             342, 368, 394, 421,\n",
              "                                                             447, 473, 500],\n",
              "                                        'min_samples_split': [2, 37, 73, 108,\n",
              "                                                              144, 179, 215,\n",
              "                                                              251, 286, 322,\n",
              "                                                              357, 393, 428,\n",
              "                                                              464, 500],\n",
              "                                        'n_estimators': [45, 46, 48, 50, 51, 53,\n",
              "                                                         55, 56, 58, 60]},\n",
              "                   random_state=42, verbose=2)"
            ],
            "text/html": [
              "<style>#sk-container-id-2 {color: black;background-color: white;}#sk-container-id-2 pre{padding: 0;}#sk-container-id-2 div.sk-toggleable {background-color: white;}#sk-container-id-2 label.sk-toggleable__label {cursor: pointer;display: block;width: 100%;margin-bottom: 0;padding: 0.3em;box-sizing: border-box;text-align: center;}#sk-container-id-2 label.sk-toggleable__label-arrow:before {content: \"▸\";float: left;margin-right: 0.25em;color: #696969;}#sk-container-id-2 label.sk-toggleable__label-arrow:hover:before {color: black;}#sk-container-id-2 div.sk-estimator:hover label.sk-toggleable__label-arrow:before {color: black;}#sk-container-id-2 div.sk-toggleable__content {max-height: 0;max-width: 0;overflow: hidden;text-align: left;background-color: #f0f8ff;}#sk-container-id-2 div.sk-toggleable__content pre {margin: 0.2em;color: black;border-radius: 0.25em;background-color: #f0f8ff;}#sk-container-id-2 input.sk-toggleable__control:checked~div.sk-toggleable__content {max-height: 200px;max-width: 100%;overflow: auto;}#sk-container-id-2 input.sk-toggleable__control:checked~label.sk-toggleable__label-arrow:before {content: \"▾\";}#sk-container-id-2 div.sk-estimator input.sk-toggleable__control:checked~label.sk-toggleable__label {background-color: #d4ebff;}#sk-container-id-2 div.sk-label input.sk-toggleable__control:checked~label.sk-toggleable__label {background-color: #d4ebff;}#sk-container-id-2 input.sk-hidden--visually {border: 0;clip: rect(1px 1px 1px 1px);clip: rect(1px, 1px, 1px, 1px);height: 1px;margin: -1px;overflow: hidden;padding: 0;position: absolute;width: 1px;}#sk-container-id-2 div.sk-estimator {font-family: monospace;background-color: #f0f8ff;border: 1px dotted black;border-radius: 0.25em;box-sizing: border-box;margin-bottom: 0.5em;}#sk-container-id-2 div.sk-estimator:hover {background-color: #d4ebff;}#sk-container-id-2 div.sk-parallel-item::after {content: \"\";width: 100%;border-bottom: 1px solid gray;flex-grow: 1;}#sk-container-id-2 div.sk-label:hover label.sk-toggleable__label {background-color: #d4ebff;}#sk-container-id-2 div.sk-serial::before {content: \"\";position: absolute;border-left: 1px solid gray;box-sizing: border-box;top: 0;bottom: 0;left: 50%;z-index: 0;}#sk-container-id-2 div.sk-serial {display: flex;flex-direction: column;align-items: center;background-color: white;padding-right: 0.2em;padding-left: 0.2em;position: relative;}#sk-container-id-2 div.sk-item {position: relative;z-index: 1;}#sk-container-id-2 div.sk-parallel {display: flex;align-items: stretch;justify-content: center;background-color: white;position: relative;}#sk-container-id-2 div.sk-item::before, #sk-container-id-2 div.sk-parallel-item::before {content: \"\";position: absolute;border-left: 1px solid gray;box-sizing: border-box;top: 0;bottom: 0;left: 50%;z-index: -1;}#sk-container-id-2 div.sk-parallel-item {display: flex;flex-direction: column;z-index: 1;position: relative;background-color: white;}#sk-container-id-2 div.sk-parallel-item:first-child::after {align-self: flex-end;width: 50%;}#sk-container-id-2 div.sk-parallel-item:last-child::after {align-self: flex-start;width: 50%;}#sk-container-id-2 div.sk-parallel-item:only-child::after {width: 0;}#sk-container-id-2 div.sk-dashed-wrapped {border: 1px dashed gray;margin: 0 0.4em 0.5em 0.4em;box-sizing: border-box;padding-bottom: 0.4em;background-color: white;}#sk-container-id-2 div.sk-label label {font-family: monospace;font-weight: bold;display: inline-block;line-height: 1.2em;}#sk-container-id-2 div.sk-label-container {text-align: center;}#sk-container-id-2 div.sk-container {/* jupyter's `normalize.less` sets `[hidden] { display: none; }` but bootstrap.min.css set `[hidden] { display: none !important; }` so we also need the `!important` here to be able to override the default hidden behavior on the sphinx rendered scikit-learn.org. See: https://github.com/scikit-learn/scikit-learn/issues/21755 */display: inline-block !important;position: relative;}#sk-container-id-2 div.sk-text-repr-fallback {display: none;}</style><div id=\"sk-container-id-2\" class=\"sk-top-container\"><div class=\"sk-text-repr-fallback\"><pre>RandomizedSearchCV(cv=3, estimator=RandomForestClassifier(), n_iter=80,\n",
              "                   n_jobs=-1,\n",
              "                   param_distributions={&#x27;bootstrap&#x27;: [True, False],\n",
              "                                        &#x27;max_depth&#x27;: [5, 8, 12, 16, 20, None],\n",
              "                                        &#x27;max_features&#x27;: [4, 8, 12, 16],\n",
              "                                        &#x27;max_samples&#x27;: [0.04,\n",
              "                                                        0.0473469387755102,\n",
              "                                                        0.05469387755102041,\n",
              "                                                        0.062040816326530614,\n",
              "                                                        0.06938775510204082,\n",
              "                                                        0.07673469387755102,\n",
              "                                                        0.08408163265306123,\n",
              "                                                        0.09142857142857144,\n",
              "                                                        0.0987...\n",
              "                                                        0.22367346938775512,\n",
              "                                                        0.23102040816326533,\n",
              "                                                        0.23836734693877554,\n",
              "                                                        0.24571428571428575,\n",
              "                                                        0.2530612244897959, ...],\n",
              "                                        &#x27;min_samples_leaf&#x27;: [1, 27, 53, 79, 106,\n",
              "                                                             132, 158, 184, 211,\n",
              "                                                             237, 263, 289, 316,\n",
              "                                                             342, 368, 394, 421,\n",
              "                                                             447, 473, 500],\n",
              "                                        &#x27;min_samples_split&#x27;: [2, 37, 73, 108,\n",
              "                                                              144, 179, 215,\n",
              "                                                              251, 286, 322,\n",
              "                                                              357, 393, 428,\n",
              "                                                              464, 500],\n",
              "                                        &#x27;n_estimators&#x27;: [45, 46, 48, 50, 51, 53,\n",
              "                                                         55, 56, 58, 60]},\n",
              "                   random_state=42, verbose=2)</pre><b>In a Jupyter environment, please rerun this cell to show the HTML representation or trust the notebook. <br />On GitHub, the HTML representation is unable to render, please try loading this page with nbviewer.org.</b></div><div class=\"sk-container\" hidden><div class=\"sk-item sk-dashed-wrapped\"><div class=\"sk-label-container\"><div class=\"sk-label sk-toggleable\"><input class=\"sk-toggleable__control sk-hidden--visually\" id=\"sk-estimator-id-2\" type=\"checkbox\" ><label for=\"sk-estimator-id-2\" class=\"sk-toggleable__label sk-toggleable__label-arrow\">RandomizedSearchCV</label><div class=\"sk-toggleable__content\"><pre>RandomizedSearchCV(cv=3, estimator=RandomForestClassifier(), n_iter=80,\n",
              "                   n_jobs=-1,\n",
              "                   param_distributions={&#x27;bootstrap&#x27;: [True, False],\n",
              "                                        &#x27;max_depth&#x27;: [5, 8, 12, 16, 20, None],\n",
              "                                        &#x27;max_features&#x27;: [4, 8, 12, 16],\n",
              "                                        &#x27;max_samples&#x27;: [0.04,\n",
              "                                                        0.0473469387755102,\n",
              "                                                        0.05469387755102041,\n",
              "                                                        0.062040816326530614,\n",
              "                                                        0.06938775510204082,\n",
              "                                                        0.07673469387755102,\n",
              "                                                        0.08408163265306123,\n",
              "                                                        0.09142857142857144,\n",
              "                                                        0.0987...\n",
              "                                                        0.22367346938775512,\n",
              "                                                        0.23102040816326533,\n",
              "                                                        0.23836734693877554,\n",
              "                                                        0.24571428571428575,\n",
              "                                                        0.2530612244897959, ...],\n",
              "                                        &#x27;min_samples_leaf&#x27;: [1, 27, 53, 79, 106,\n",
              "                                                             132, 158, 184, 211,\n",
              "                                                             237, 263, 289, 316,\n",
              "                                                             342, 368, 394, 421,\n",
              "                                                             447, 473, 500],\n",
              "                                        &#x27;min_samples_split&#x27;: [2, 37, 73, 108,\n",
              "                                                              144, 179, 215,\n",
              "                                                              251, 286, 322,\n",
              "                                                              357, 393, 428,\n",
              "                                                              464, 500],\n",
              "                                        &#x27;n_estimators&#x27;: [45, 46, 48, 50, 51, 53,\n",
              "                                                         55, 56, 58, 60]},\n",
              "                   random_state=42, verbose=2)</pre></div></div></div><div class=\"sk-parallel\"><div class=\"sk-parallel-item\"><div class=\"sk-item\"><div class=\"sk-label-container\"><div class=\"sk-label sk-toggleable\"><input class=\"sk-toggleable__control sk-hidden--visually\" id=\"sk-estimator-id-3\" type=\"checkbox\" ><label for=\"sk-estimator-id-3\" class=\"sk-toggleable__label sk-toggleable__label-arrow\">estimator: RandomForestClassifier</label><div class=\"sk-toggleable__content\"><pre>RandomForestClassifier()</pre></div></div></div><div class=\"sk-serial\"><div class=\"sk-item\"><div class=\"sk-estimator sk-toggleable\"><input class=\"sk-toggleable__control sk-hidden--visually\" id=\"sk-estimator-id-4\" type=\"checkbox\" ><label for=\"sk-estimator-id-4\" class=\"sk-toggleable__label sk-toggleable__label-arrow\">RandomForestClassifier</label><div class=\"sk-toggleable__content\"><pre>RandomForestClassifier()</pre></div></div></div></div></div></div></div></div></div></div>"
            ]
          },
          "metadata": {},
          "execution_count": 20
        }
      ],
      "source": [
        "forest = RFC()\n",
        "forest_random = RandomizedSearchCV(estimator=forest,\n",
        "                                   param_distributions=random_grid,\n",
        "                                   n_iter=80,\n",
        "                                   cv=3,\n",
        "                                   verbose=2,\n",
        "                                   random_state=42,\n",
        "                                   n_jobs=-1)\n",
        "\n",
        "forest_random.fit(X_train,y_train)"
      ]
    },
    {
      "cell_type": "code",
      "execution_count": 21,
      "metadata": {
        "id": "w0ukkR5yzx9e",
        "colab": {
          "base_uri": "https://localhost:8080/"
        },
        "outputId": "9648e5e2-4f40-4db3-9dbb-3df1318ec4f7"
      },
      "outputs": [
        {
          "data": {
            "text/plain": [
              "{'n_estimators': 58,\n",
              " 'min_samples_split': 73,\n",
              " 'min_samples_leaf': 27,\n",
              " 'max_samples': 0.23102040816326533,\n",
              " 'max_features': 16,\n",
              " 'max_depth': 5,\n",
              " 'bootstrap': True}"
            ]
          },
          "execution_count": 21,
          "metadata": {},
          "output_type": "execute_result"
        }
      ],
      "source": [
        "forest_random.best_params_"
      ]
    },
    {
      "cell_type": "code",
      "execution_count": 22,
      "metadata": {
        "id": "tD0w5-h3zx7K",
        "colab": {
          "base_uri": "https://localhost:8080/"
        },
        "outputId": "a2887c92-91f2-477c-bc27-dc1d527949ca"
      },
      "outputs": [
        {
          "output_type": "stream",
          "name": "stdout",
          "text": [
            "              precision    recall  f1-score   support\n",
            "\n",
            "           0       0.86      0.95      0.91      4029\n",
            "           1       0.68      0.39      0.50      1003\n",
            "\n",
            "    accuracy                           0.84      5032\n",
            "   macro avg       0.77      0.67      0.70      5032\n",
            "weighted avg       0.83      0.84      0.82      5032\n",
            "\n",
            "              precision    recall  f1-score   support\n",
            "\n",
            "           0       0.86      0.95      0.91      4029\n",
            "           1       0.68      0.39      0.50      1003\n",
            "\n",
            "    accuracy                           0.84      5032\n",
            "   macro avg       0.77      0.67      0.70      5032\n",
            "weighted avg       0.83      0.84      0.82      5032\n",
            "\n"
          ]
        }
      ],
      "source": [
        "base_forest = RFC(n_estimators = 10, random_state=42)\n",
        "base_forest.fit(X_train,y_train)\n",
        "\n",
        "from sklearn.metrics import classification_report\n",
        "pred = base_forest.predict(X_test)\n",
        "print(classification_report(y_test,pred))"
      ]
    },
    {
      "cell_type": "code",
      "execution_count": null,
      "metadata": {
        "id": "diLDtsCk0QHw"
      },
      "outputs": [],
      "source": [
        "from sklearn.metrics import accuracy_score\n",
        "accuracy_score(y_test,pred)"
      ]
    },
    {
      "cell_type": "code",
      "execution_count": 24,
      "metadata": {
        "id": "gDjiLuHq0QEL",
        "colab": {
          "base_uri": "https://localhost:8080/"
        },
        "outputId": "53cf60f4-6bb7-4fe5-ca13-a09669d4f5d2"
      },
      "outputs": [
        {
          "output_type": "stream",
          "name": "stdout",
          "text": [
            "              precision    recall  f1-score   support\n",
            "\n",
            "           0       0.86      0.96      0.91      4029\n",
            "           1       0.71      0.38      0.50      1003\n",
            "\n",
            "    accuracy                           0.85      5032\n",
            "   macro avg       0.79      0.67      0.70      5032\n",
            "weighted avg       0.83      0.85      0.83      5032\n",
            "\n",
            "              precision    recall  f1-score   support\n",
            "\n",
            "           0       0.86      0.96      0.91      4029\n",
            "           1       0.71      0.38      0.50      1003\n",
            "\n",
            "    accuracy                           0.85      5032\n",
            "   macro avg       0.79      0.67      0.70      5032\n",
            "weighted avg       0.83      0.85      0.83      5032\n",
            "\n"
          ]
        },
        {
          "output_type": "execute_result",
          "data": {
            "text/plain": [
              "0.8457869634340223"
            ]
          },
          "metadata": {},
          "execution_count": 24
        },
        {
          "output_type": "execute_result",
          "data": {
            "text/plain": [
              "0.8457869634340223"
            ]
          },
          "metadata": {},
          "execution_count": 24
        }
      ],
      "source": [
        "best_forest = forest_random.best_estimator_\n",
        "pred = best_forest.predict(X_test)\n",
        "print(classification_report(y_test,pred))\n",
        "accuracy_score(y_test,pred)"
      ]
    }
  ],
  "metadata": {
    "colab": {
      "provenance": [],
      "authorship_tag": "ABX9TyP95tjCYuc13r4ybqjPxQHx",
      "include_colab_link": true
    },
    "kernelspec": {
      "display_name": "Python 3",
      "name": "python3"
    },
    "language_info": {
      "name": "python"
    }
  },
  "nbformat": 4,
  "nbformat_minor": 0
}